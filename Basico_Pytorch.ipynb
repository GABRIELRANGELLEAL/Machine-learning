{
  "nbformat": 4,
  "nbformat_minor": 0,
  "metadata": {
    "colab": {
      "provenance": [],
      "authorship_tag": "ABX9TyPXiCNagli6K4ADECPf3L8C",
      "include_colab_link": true
    },
    "kernelspec": {
      "name": "python3",
      "display_name": "Python 3"
    },
    "language_info": {
      "name": "python"
    }
  },
  "cells": [
    {
      "cell_type": "markdown",
      "metadata": {
        "id": "view-in-github",
        "colab_type": "text"
      },
      "source": [
        "<a href=\"https://colab.research.google.com/github/GABRIELRANGELLEAL/Machine_learning/blob/main/Basico_Pytorch.ipynb\" target=\"_parent\"><img src=\"https://colab.research.google.com/assets/colab-badge.svg\" alt=\"Open In Colab\"/></a>"
      ]
    },
    {
      "cell_type": "code",
      "execution_count": 4,
      "metadata": {
        "id": "ei23miu_tlbl"
      },
      "outputs": [],
      "source": [
        "import torch\n",
        "import numpy as np"
      ]
    },
    {
      "cell_type": "markdown",
      "source": [
        "# Sintaxe básica do Pytorch\n",
        "Assim como o NumPy, o Pytorch é uma biblioteca de processamento vetorial/matricial/tensorial.\n",
        "https://pytorch.org/docs/stable/tensors.html"
      ],
      "metadata": {
        "id": "uHqjxYFw6dHT"
      }
    },
    {
      "cell_type": "markdown",
      "source": [
        "## Tipos de tensores\n",
        "Você pode criar tensores do PyTorch de inúmeras formas! Vamos ver primeiro os tipos de tensores que estão ao nosso dispor. O código para criar um tensor:\n",
        "\n",
        "```\n",
        "# a partir de uma lista\n",
        "torch.Tensor(lista)\n",
        "\n",
        "# a partir de um array numpy\n",
        "torch.from_numpy(array)\n",
        "```"
      ],
      "metadata": {
        "id": "A7PdKNss6jvt"
      }
    },
    {
      "cell_type": "code",
      "source": [
        "# criando uma lista aleatória\n",
        "lista = [[1,2,3],\n",
        "         [4,5,6]\n",
        "         ]\n",
        "# criando tensor a partir da lista\n",
        "tns = torch.Tensor(lista)\n",
        "print(tns.dtype)\n",
        "print(tns)\n",
        "print('')\n",
        "\n",
        "# quando queremos estabelecer o tipo dos elementos do tensor como float\n",
        "tns = torch.DoubleTensor(lista)\n",
        "print(tns.dtype)\n",
        "print(tns)\n",
        "\n",
        "# quando queremos estabelecer o tipo dos elementos do tensor como inteiros\n",
        "tns = torch.LongTensor(lista)\n",
        "print(tns.dtype)\n",
        "print(tns)"
      ],
      "metadata": {
        "colab": {
          "base_uri": "https://localhost:8080/"
        },
        "id": "uwqZtmkO6042",
        "outputId": "091c40c8-7a03-413d-8703-577b842cf185"
      },
      "execution_count": 2,
      "outputs": [
        {
          "output_type": "stream",
          "name": "stdout",
          "text": [
            "torch.float32\n",
            "tensor([[1., 2., 3.],\n",
            "        [4., 5., 6.]])\n",
            "\n",
            "torch.float64\n",
            "tensor([[1., 2., 3.],\n",
            "        [4., 5., 6.]], dtype=torch.float64)\n",
            "torch.int64\n",
            "tensor([[1, 2, 3],\n",
            "        [4, 5, 6]])\n"
          ]
        }
      ]
    },
    {
      "cell_type": "code",
      "source": [
        "# criando array aleatório\n",
        "arr = np.random.rand(3,4)\n",
        "# mudando o tipo do array pra int\n",
        "arr = arr.astype(int)\n",
        "print('Tipo de dados do array:',arr.dtype)\n",
        "print(arr)\n",
        "print('')\n",
        "# criando tensor a partir do array\n",
        "tns = torch.from_numpy(arr)\n",
        "print(tns)\n",
        "print('Tipo de dados do tensor:',tns.dtype)"
      ],
      "metadata": {
        "colab": {
          "base_uri": "https://localhost:8080/"
        },
        "id": "RzNc9LLW8JXG",
        "outputId": "2fe174e6-c016-4aa2-bc2e-c88163e8d321"
      },
      "execution_count": 5,
      "outputs": [
        {
          "output_type": "stream",
          "name": "stdout",
          "text": [
            "Tipo de dados do array: int64\n",
            "[[0 0 0 0]\n",
            " [0 0 0 0]\n",
            " [0 0 0 0]]\n",
            "\n",
            "tensor([[0, 0, 0, 0],\n",
            "        [0, 0, 0, 0],\n",
            "        [0, 0, 0, 0]])\n",
            "Tipo de dados do tensor: torch.int64\n"
          ]
        }
      ]
    },
    {
      "cell_type": "markdown",
      "source": [
        "perceba que ele preserva o tipo de dados do array, o que não acontece quando geramos a partir de uma lista"
      ],
      "metadata": {
        "id": "m8llvzvI8aB1"
      }
    },
    {
      "cell_type": "markdown",
      "source": [
        "## Tensores inicializados\n",
        "Essas funções recebem como parâmetro o tamanho de cada dimensão do tensor. Aqui vamos conhecer as seguintes funções:\n",
        "\n",
        "*torch.zeros(linhas,colunas)* -> Cria um tensor preenchido com zeros.\n",
        "\n",
        "*torch.ones(linhas,colunas)* -> Cria um tensor preenchido com uns.\n",
        "\n",
        "*torch.randn(linhas,colunas)* -> Cria um tensor preenchido com números aleatórios a partir de uma distribuição normal"
      ],
      "metadata": {
        "id": "i4FBRm_Y9Xva"
      }
    },
    {
      "cell_type": "code",
      "source": [
        "tns0 = torch.zeros(3,5)\n",
        "tns1 = torch.ones(2,3)\n",
        "tnsr = torch.randn(3,5)\n",
        "print(tns0)\n",
        "print(tns1)\n",
        "print(tnsr)"
      ],
      "metadata": {
        "colab": {
          "base_uri": "https://localhost:8080/"
        },
        "id": "4gdUxOhL95bt",
        "outputId": "da352f9b-2690-44a1-8ab0-fb4022be4f26"
      },
      "execution_count": 8,
      "outputs": [
        {
          "output_type": "stream",
          "name": "stdout",
          "text": [
            "tensor([[0., 0., 0., 0., 0.],\n",
            "        [0., 0., 0., 0., 0.],\n",
            "        [0., 0., 0., 0., 0.]])\n",
            "tensor([[1., 1., 1.],\n",
            "        [1., 1., 1.]])\n",
            "tensor([[-1.6742, -0.0529, -0.5032,  0.7079, -0.2999],\n",
            "        [ 1.1507, -0.6225,  0.9903,  0.2401, -1.2630],\n",
            "        [-0.6793, -0.7915,  1.1222,  0.0173, -1.4445]])\n"
          ]
        }
      ]
    },
    {
      "cell_type": "code",
      "source": [
        "# da pra criar um tensor no torch e passar pra numpy tmb\n",
        "arr = tnsr.data.numpy() # utilizamos o tensor aleatório que criamos acima\n",
        "print(arr)\n",
        "print(type(arr))"
      ],
      "metadata": {
        "colab": {
          "base_uri": "https://localhost:8080/"
        },
        "id": "-X8Uzo6A-JSq",
        "outputId": "1809b9c9-17ee-4f96-8980-8eb3373cd160"
      },
      "execution_count": 13,
      "outputs": [
        {
          "output_type": "stream",
          "name": "stdout",
          "text": [
            "[[-1.6741691  -0.05293682 -0.50316846  0.70789266 -0.29989228]\n",
            " [ 1.1507387  -0.6224581   0.9902638   0.24012671 -1.2630492 ]\n",
            " [-0.67928326 -0.79150265  1.1222335   0.01725468 -1.4445364 ]]\n",
            "<class 'numpy.ndarray'>\n"
          ]
        }
      ]
    },
    {
      "cell_type": "markdown",
      "source": [
        "## Indexação\n",
        "De posse dessa informação, a indexação é feita de forma similar a arrays Numpy, através da sintaxe de colchetes []."
      ],
      "metadata": {
        "id": "zTLTfDIzBrHO"
      }
    },
    {
      "cell_type": "code",
      "source": [],
      "metadata": {
        "id": "AL0f5MEw-cMk"
      },
      "execution_count": null,
      "outputs": []
    },
    {
      "cell_type": "markdown",
      "source": [
        "## Operações com tensores\n",
        "A função .item() utilizada anteriormente extrai o número de um tensor que possui um único valor, permitindo realizar as operações numéricas do Python. Caso o item não seja extraído, operações que envolvam tensores vão retornar novos tensores.\n",
        "\n",
        "Vale ressaltar também que operações entre tensores são realizadas ponto a ponto, operando cada elemento (i, j) do tensor t1, com o elemento (i, j) do tensor t2."
      ],
      "metadata": {
        "id": "m8pKC6TzBvLo"
      }
    },
    {
      "cell_type": "code",
      "source": [],
      "metadata": {
        "id": "KCKL9qZHBynj"
      },
      "execution_count": null,
      "outputs": []
    },
    {
      "cell_type": "markdown",
      "source": [
        "## Função .size() e .view()\n",
        "Uma operações importantíssima na manipulação de tensores para Deep Learning é a reorganização das suas dimensões. Dessa forma podemos, por exemplo, linearizar um tensor n-dimensional."
      ],
      "metadata": {
        "id": "46Px9xdqBzDx"
      }
    },
    {
      "cell_type": "code",
      "source": [],
      "metadata": {
        "id": "3aYgFy7BB1F6"
      },
      "execution_count": null,
      "outputs": []
    },
    {
      "cell_type": "markdown",
      "source": [
        "## GPU Cast\n",
        "Para que o seu script dê suporte a infraestruturas com e sem GPU, é importante definir o dispositivo no início do seu código de acordo com a verificação apresentada a seguir. Essa definição de dispositivo será utilizada toda vez que precisarmos subir valores na GPU, como os pesos da rede, os gradientes, etc."
      ],
      "metadata": {
        "id": "kRUL2f-qB3Ws"
      }
    },
    {
      "cell_type": "code",
      "source": [],
      "metadata": {
        "id": "tqwGm9TMB60t"
      },
      "execution_count": null,
      "outputs": []
    }
  ]
}